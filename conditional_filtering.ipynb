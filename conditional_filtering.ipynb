{
 "cells": [
  {
   "cell_type": "code",
   "execution_count": null,
   "id": "8c0da342",
   "metadata": {},
   "outputs": [],
   "source": [
    "import pandas as pd"
   ]
  },
  {
   "cell_type": "code",
   "execution_count": null,
   "id": "78b10fff",
   "metadata": {},
   "outputs": [],
   "source": [
    "df=pd.read_csv(\"Report_data.csv\")"
   ]
  },
  {
   "cell_type": "code",
   "execution_count": null,
   "id": "a7b6f339",
   "metadata": {},
   "outputs": [],
   "source": [
    "df.head()\n"
   ]
  },
  {
   "cell_type": "code",
   "execution_count": null,
   "id": "4c2896fa",
   "metadata": {},
   "outputs": [],
   "source": [
    "df[\"Actor\"].unique()"
   ]
  },
  {
   "cell_type": "code",
   "execution_count": null,
   "id": "077d58c4",
   "metadata": {},
   "outputs": [],
   "source": [
    "#df=df[df['Actor'] == \"Jitesh Khatri\"]  "
   ]
  },
  {
   "cell_type": "code",
   "execution_count": null,
   "id": "7bebccb1",
   "metadata": {},
   "outputs": [],
   "source": [
    "df.shape"
   ]
  },
  {
   "cell_type": "code",
   "execution_count": null,
   "id": "da4cb240",
   "metadata": {
    "scrolled": true
   },
   "outputs": [],
   "source": [
    "df[\"Action\"].unique()"
   ]
  },
  {
   "cell_type": "code",
   "execution_count": null,
   "id": "48e08739",
   "metadata": {},
   "outputs": [],
   "source": [
    "#split_df = df2['Tags'].str.split(',', expand=True)\n"
   ]
  },
  {
   "cell_type": "code",
   "execution_count": null,
   "id": "3731143b",
   "metadata": {},
   "outputs": [],
   "source": [
    "#split_df.head(10)"
   ]
  },
  {
   "cell_type": "code",
   "execution_count": null,
   "id": "2295ef6f",
   "metadata": {},
   "outputs": [],
   "source": [
    "#filtered_df = df.loc[(df['Column1'] == 'A') & (df['Column2'] == 4)]\n",
    "\n",
    "filtered_df1 = df.loc[(df['Country'] != \"India\") & (df['Action']==\"login_success\")]"
   ]
  },
  {
   "cell_type": "code",
   "execution_count": null,
   "id": "2ed23bde",
   "metadata": {},
   "outputs": [],
   "source": [
    "\n",
    "#\n",
    "\n",
    "filtered_df1.reset_index(inplace=True)\n"
   ]
  },
  {
   "cell_type": "code",
   "execution_count": null,
   "id": "47498729",
   "metadata": {},
   "outputs": [],
   "source": [
    "filtered_df1.drop(['index'], axis=1)"
   ]
  },
  {
   "cell_type": "code",
   "execution_count": null,
   "id": "e1562e1d",
   "metadata": {},
   "outputs": [],
   "source": [
    "filtered_df1\n",
    "\n"
   ]
  },
  {
   "cell_type": "code",
   "execution_count": null,
   "id": "8f69d69f",
   "metadata": {},
   "outputs": [],
   "source": [
    "filtered_df2 = df[df['Action'] == \"trash\"]  "
   ]
  },
  {
   "cell_type": "code",
   "execution_count": null,
   "id": "709b6884",
   "metadata": {},
   "outputs": [],
   "source": [
    "filtered_df2.reset_index(inplace=True)\n"
   ]
  },
  {
   "cell_type": "code",
   "execution_count": null,
   "id": "d4b78b44",
   "metadata": {},
   "outputs": [],
   "source": [
    "filtered_df2.drop(['index'], axis=1)"
   ]
  },
  {
   "cell_type": "code",
   "execution_count": null,
   "id": "9f675ca6",
   "metadata": {},
   "outputs": [],
   "source": [
    "filtered_df3= df[df['Action'] =='change_user_access' ] "
   ]
  },
  {
   "cell_type": "code",
   "execution_count": null,
   "id": "9e011fda",
   "metadata": {},
   "outputs": [],
   "source": [
    "filtered_df3.reset_index(inplace=True)\n"
   ]
  },
  {
   "cell_type": "code",
   "execution_count": null,
   "id": "26bd373b",
   "metadata": {},
   "outputs": [],
   "source": [
    "filtered_df3.drop(['index'], axis=1)"
   ]
  },
  {
   "cell_type": "code",
   "execution_count": null,
   "id": "8bc3d45a",
   "metadata": {},
   "outputs": [],
   "source": [
    "filtered_df3.head()"
   ]
  },
  {
   "cell_type": "code",
   "execution_count": null,
   "id": "c46c0246",
   "metadata": {},
   "outputs": [],
   "source": [
    "#new_df=df\n",
    "df['Tags'] = df['Tags'].replace(r',\\s*', ' ', regex=True)\n"
   ]
  },
  {
   "cell_type": "code",
   "execution_count": null,
   "id": "68d079ee",
   "metadata": {},
   "outputs": [],
   "source": [
    "df.head()"
   ]
  },
  {
   "cell_type": "code",
   "execution_count": null,
   "id": "eaba3fc8",
   "metadata": {},
   "outputs": [],
   "source": [
    "df.shape"
   ]
  },
  {
   "cell_type": "code",
   "execution_count": null,
   "id": "ba05b7d0",
   "metadata": {},
   "outputs": [],
   "source": [
    "filtered_df4_1=df[df['Action'] == \"create\"]"
   ]
  },
  {
   "cell_type": "code",
   "execution_count": null,
   "id": "22a31d95",
   "metadata": {},
   "outputs": [],
   "source": [
    "filtered_df4_1"
   ]
  },
  {
   "cell_type": "code",
   "execution_count": null,
   "id": "84c965b1",
   "metadata": {},
   "outputs": [],
   "source": [
    "desired_word1 = 'sensitive'\n",
    "#filtered_df4_2 =df [df['Tags'].str.contains(desired_word1, case=False).fillna(False)]\n",
    "filtered_df4_2 =filtered_df4_1 [filtered_df4_1['Tags'].str.contains(desired_word1, case=False).fillna(False)]"
   ]
  },
  {
   "cell_type": "code",
   "execution_count": null,
   "id": "0466ca32",
   "metadata": {},
   "outputs": [],
   "source": []
  },
  {
   "cell_type": "code",
   "execution_count": null,
   "id": "c96c0c22",
   "metadata": {},
   "outputs": [],
   "source": [
    "#TO BE DISCUSSED\n",
    "\n",
    "desired_words2 = ['shared externally','organization-wide']\n",
    "\n",
    "\n",
    "\n",
    "#filtered_df4_3 =df [df['Tags'].str.contains('|'.join(desired_words), case=False).fillna(False)]\n",
    "filtered_df4_3 =filtered_df4_2[filtered_df4_2['Tags'].str.contains('|'.join(desired_words2), case=False).fillna(False)]"
   ]
  },
  {
   "cell_type": "code",
   "execution_count": null,
   "id": "784cecab",
   "metadata": {},
   "outputs": [],
   "source": [
    "filtered_df4_3.reset_index(inplace=True)"
   ]
  },
  {
   "cell_type": "code",
   "execution_count": null,
   "id": "36262e17",
   "metadata": {},
   "outputs": [],
   "source": [
    "filtered_df4_3.drop(['index'], axis=1)"
   ]
  },
  {
   "cell_type": "code",
   "execution_count": null,
   "id": "8a1f46a7",
   "metadata": {},
   "outputs": [],
   "source": [
    "filtered_df4_3.shape\n"
   ]
  },
  {
   "cell_type": "code",
   "execution_count": null,
   "id": "620a9c1d",
   "metadata": {},
   "outputs": [],
   "source": [
    "df[\"Tags\"].unique()\n"
   ]
  },
  {
   "cell_type": "code",
   "execution_count": null,
   "id": "634027ba",
   "metadata": {},
   "outputs": [],
   "source": [
    "df[\"CRUDS\"].unique()"
   ]
  },
  {
   "cell_type": "code",
   "execution_count": null,
   "id": "64a61364",
   "metadata": {},
   "outputs": [],
   "source": [
    "#FOR 5TH CONDITIONS I'M APPLYING CONDITIONS USING AND"
   ]
  },
  {
   "cell_type": "code",
   "execution_count": null,
   "id": "b184ba5e",
   "metadata": {},
   "outputs": [],
   "source": [
    "filtered_df5_1= df[df['Action'] =='change_user_access' ]"
   ]
  },
  {
   "cell_type": "code",
   "execution_count": null,
   "id": "2ef0d5b9",
   "metadata": {},
   "outputs": [],
   "source": [
    "filtered_df5_1.shape"
   ]
  },
  {
   "cell_type": "code",
   "execution_count": null,
   "id": "71b80d33",
   "metadata": {},
   "outputs": [],
   "source": []
  },
  {
   "cell_type": "code",
   "execution_count": null,
   "id": "c32a01de",
   "metadata": {},
   "outputs": [],
   "source": [
    "\n",
    "desired_values5 = ['Update','Create']\n",
    "\n",
    "\n",
    "filtered_df5_2 =filtered_df5_1 [filtered_df5_1['CRUDS'].isin(desired_values5)]"
   ]
  },
  {
   "cell_type": "code",
   "execution_count": null,
   "id": "38d13060",
   "metadata": {},
   "outputs": [],
   "source": [
    "filtered_df5_2.shape"
   ]
  },
  {
   "cell_type": "code",
   "execution_count": null,
   "id": "f959671a",
   "metadata": {},
   "outputs": [],
   "source": [
    "#DOUBT IN THE OUTPUT AS NUMBER OF OUTPUT ROWS IS VERY HIGH\n",
    "\n",
    "\n",
    "desired_word5_3 = 'external'\n",
    "filtered_df5_3 = filtered_df5_2[filtered_df5_2['Tags'].str.contains(desired_word5_3, case=False).fillna(False)]\n",
    "\n",
    "\n"
   ]
  },
  {
   "cell_type": "code",
   "execution_count": null,
   "id": "a5c8c5ca",
   "metadata": {},
   "outputs": [],
   "source": [
    "import re\n",
    "\n",
    "desired_word_3 = 'external'\n",
    "# Use word boundaries (\\b) in the regular expression to match the exact word\n",
    "regex_pattern = r'\\b' + re.escape(desired_word_3) + r'\\b'\n",
    "filtered_df5_3 = filtered_df5_2[filtered_df5_2['Tags'].str.contains(regex_pattern, case=False).fillna(False)]\n",
    "# Filter the DataFrame using the regular expression pattern\n"
   ]
  },
  {
   "cell_type": "code",
   "execution_count": null,
   "id": "e951ed1c",
   "metadata": {},
   "outputs": [],
   "source": [
    "filtered_df5_3.reset_index(inplace=True)\n"
   ]
  },
  {
   "cell_type": "code",
   "execution_count": null,
   "id": "9230463c",
   "metadata": {},
   "outputs": [],
   "source": [
    "filtered_df5_3.drop(['index'], axis=1)"
   ]
  },
  {
   "cell_type": "code",
   "execution_count": null,
   "id": "a1d1a69b",
   "metadata": {},
   "outputs": [],
   "source": [
    "filtered_df5_3[\"Tags\"].unique()"
   ]
  },
  {
   "cell_type": "code",
   "execution_count": null,
   "id": "6056a479",
   "metadata": {},
   "outputs": [],
   "source": []
  },
  {
   "cell_type": "code",
   "execution_count": null,
   "id": "2c41d268",
   "metadata": {},
   "outputs": [],
   "source": [
    "filtered_df6=df[df['Action'] == 'change_acl_editors']"
   ]
  },
  {
   "cell_type": "code",
   "execution_count": null,
   "id": "e1da8164",
   "metadata": {},
   "outputs": [],
   "source": [
    "filtered_df6.reset_index(inplace=True)"
   ]
  },
  {
   "cell_type": "code",
   "execution_count": null,
   "id": "0694bb32",
   "metadata": {},
   "outputs": [],
   "source": [
    "filtered_df6.drop(['index'], axis=1)"
   ]
  },
  {
   "cell_type": "markdown",
   "id": "4e621c7e",
   "metadata": {},
   "source": []
  },
  {
   "cell_type": "code",
   "execution_count": null,
   "id": "9d00a58f",
   "metadata": {},
   "outputs": [],
   "source": []
  },
  {
   "cell_type": "code",
   "execution_count": null,
   "id": "9c583cf7",
   "metadata": {},
   "outputs": [],
   "source": [
    "with pd.ExcelWriter('D:\\Data filtering on notice period employes\\output.xlsx')as writer:\n",
    "    filtered_df1.to_excel(writer, sheet_name='Sheet_1')\n",
    "    filtered_df2.to_excel(writer, sheet_name='Sheet_2')\n",
    "    filtered_df3.to_excel(writer, sheet_name='Sheet_3')\n",
    "    filtered_df4_3.to_excel(writer, sheet_name='Sheet_4')\n",
    "    filtered_df5_3.to_excel(writer, sheet_name='Sheet_5')\n",
    "    filtered_df6.to_excel(writer, sheet_name='Sheet_6')"
   ]
  },
  {
   "cell_type": "code",
   "execution_count": null,
   "id": "d76aa576",
   "metadata": {},
   "outputs": [],
   "source": []
  },
  {
   "cell_type": "code",
   "execution_count": null,
   "id": "27d08cbd",
   "metadata": {},
   "outputs": [],
   "source": []
  },
  {
   "cell_type": "code",
   "execution_count": null,
   "id": "217a066f",
   "metadata": {},
   "outputs": [],
   "source": []
  },
  {
   "cell_type": "code",
   "execution_count": null,
   "id": "be1e7ad1",
   "metadata": {},
   "outputs": [],
   "source": []
  },
  {
   "cell_type": "code",
   "execution_count": null,
   "id": "fed36cc2",
   "metadata": {},
   "outputs": [],
   "source": []
  },
  {
   "cell_type": "code",
   "execution_count": null,
   "id": "54e1849e",
   "metadata": {},
   "outputs": [],
   "source": []
  },
  {
   "cell_type": "code",
   "execution_count": null,
   "id": "246117ee",
   "metadata": {},
   "outputs": [],
   "source": []
  },
  {
   "cell_type": "code",
   "execution_count": null,
   "id": "87a200be",
   "metadata": {},
   "outputs": [],
   "source": []
  },
  {
   "cell_type": "code",
   "execution_count": null,
   "id": "84e307ac",
   "metadata": {},
   "outputs": [],
   "source": []
  },
  {
   "cell_type": "code",
   "execution_count": null,
   "id": "3c51e226",
   "metadata": {},
   "outputs": [],
   "source": []
  },
  {
   "cell_type": "code",
   "execution_count": null,
   "id": "a2857114",
   "metadata": {},
   "outputs": [],
   "source": []
  },
  {
   "cell_type": "code",
   "execution_count": null,
   "id": "7f53e82f",
   "metadata": {},
   "outputs": [],
   "source": []
  },
  {
   "cell_type": "code",
   "execution_count": null,
   "id": "a84afff1",
   "metadata": {},
   "outputs": [],
   "source": []
  },
  {
   "cell_type": "code",
   "execution_count": null,
   "id": "489f2f96",
   "metadata": {},
   "outputs": [],
   "source": []
  },
  {
   "cell_type": "code",
   "execution_count": null,
   "id": "371965f3",
   "metadata": {},
   "outputs": [],
   "source": []
  },
  {
   "cell_type": "code",
   "execution_count": null,
   "id": "bb74fb97",
   "metadata": {},
   "outputs": [],
   "source": []
  },
  {
   "cell_type": "code",
   "execution_count": null,
   "id": "b8ecf643",
   "metadata": {},
   "outputs": [],
   "source": []
  },
  {
   "cell_type": "code",
   "execution_count": null,
   "id": "6d519235",
   "metadata": {},
   "outputs": [],
   "source": []
  },
  {
   "cell_type": "code",
   "execution_count": null,
   "id": "968f2a67",
   "metadata": {},
   "outputs": [],
   "source": []
  },
  {
   "cell_type": "code",
   "execution_count": null,
   "id": "f2c0df94",
   "metadata": {},
   "outputs": [],
   "source": []
  },
  {
   "cell_type": "code",
   "execution_count": null,
   "id": "75423e99",
   "metadata": {},
   "outputs": [],
   "source": []
  },
  {
   "cell_type": "code",
   "execution_count": null,
   "id": "63d78584",
   "metadata": {},
   "outputs": [],
   "source": []
  },
  {
   "cell_type": "code",
   "execution_count": null,
   "id": "d10eb604",
   "metadata": {},
   "outputs": [],
   "source": []
  },
  {
   "cell_type": "code",
   "execution_count": null,
   "id": "f666035f",
   "metadata": {},
   "outputs": [],
   "source": []
  },
  {
   "cell_type": "code",
   "execution_count": null,
   "id": "61a129d7",
   "metadata": {},
   "outputs": [],
   "source": []
  },
  {
   "cell_type": "code",
   "execution_count": null,
   "id": "0eb150b0",
   "metadata": {},
   "outputs": [],
   "source": []
  },
  {
   "cell_type": "code",
   "execution_count": null,
   "id": "a003cef3",
   "metadata": {},
   "outputs": [],
   "source": []
  },
  {
   "cell_type": "code",
   "execution_count": null,
   "id": "e09fdcfc",
   "metadata": {},
   "outputs": [],
   "source": [
    "\n"
   ]
  },
  {
   "cell_type": "code",
   "execution_count": null,
   "id": "7bf1c902",
   "metadata": {},
   "outputs": [],
   "source": []
  },
  {
   "cell_type": "code",
   "execution_count": null,
   "id": "2429e3b7",
   "metadata": {},
   "outputs": [],
   "source": []
  }
 ],
 "metadata": {
  "kernelspec": {
   "display_name": "Python 3 (ipykernel)",
   "language": "python",
   "name": "python3"
  },
  "language_info": {
   "codemirror_mode": {
    "name": "ipython",
    "version": 3
   },
   "file_extension": ".py",
   "mimetype": "text/x-python",
   "name": "python",
   "nbconvert_exporter": "python",
   "pygments_lexer": "ipython3",
   "version": "3.8.17"
  }
 },
 "nbformat": 4,
 "nbformat_minor": 5
}
